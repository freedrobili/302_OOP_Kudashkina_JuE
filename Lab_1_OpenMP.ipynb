{
  "nbformat": 4,
  "nbformat_minor": 0,
  "metadata": {
    "colab": {
      "provenance": [],
      "include_colab_link": true
    },
    "kernelspec": {
      "name": "python3",
      "display_name": "Python 3"
    },
    "language_info": {
      "name": "python"
    }
  },
  "cells": [
    {
      "cell_type": "markdown",
      "metadata": {
        "id": "view-in-github",
        "colab_type": "text"
      },
      "source": [
        "<a href=\"https://colab.research.google.com/github/freedrobili/302_OOP_Kudashkina_JuE/blob/master/Lab_1_OpenMP.ipynb\" target=\"_parent\"><img src=\"https://colab.research.google.com/assets/colab-badge.svg\" alt=\"Open In Colab\"/></a>"
      ]
    },
    {
      "cell_type": "code",
      "execution_count": null,
      "metadata": {
        "colab": {
          "base_uri": "https://localhost:8080/"
        },
        "id": "CzPwVKMCIub3",
        "outputId": "ba2a9099-fa5e-4207-b451-83d9486741c0"
      },
      "outputs": [
        {
          "output_type": "stream",
          "name": "stdout",
          "text": [
            "Mounted at /content/drive\n"
          ]
        }
      ],
      "source": [
        "from google.colab import drive\n",
        "drive.mount('/content/drive')"
      ]
    },
    {
      "cell_type": "code",
      "source": [
        "cd /content/drive/MyDrive/Colab"
      ],
      "metadata": {
        "colab": {
          "base_uri": "https://localhost:8080/"
        },
        "id": "qFfX7XZgI3sV",
        "outputId": "d1565a36-b194-4de6-d80f-0ebf323d417e"
      },
      "execution_count": null,
      "outputs": [
        {
          "output_type": "stream",
          "name": "stdout",
          "text": [
            "/content/drive/MyDrive/Colab\n"
          ]
        }
      ]
    },
    {
      "cell_type": "markdown",
      "source": [
        "# **Задание 1 - Проработка примеров**\n",
        "\n",
        "---\n",
        "\n"
      ],
      "metadata": {
        "id": "hvAhgjo1kGY5"
      }
    },
    {
      "cell_type": "markdown",
      "source": [
        "# **Пример 3.1**\n",
        "\n",
        "---"
      ],
      "metadata": {
        "id": "P5rx-sSeNa20"
      }
    },
    {
      "cell_type": "code",
      "source": [
        "%%file primer_1.cpp\n",
        "\n",
        "#include <iostream>\n",
        "#include<omp.h>\n",
        "#include<stdio.h>\n",
        "\n",
        "int main () {\n",
        "    int size, rank;\n",
        "\n",
        "    /* Создание множества параллельных процессов и в каждом из них задаются\n",
        "    * свои приватные переменные size и rank */\n",
        "\n",
        "    #pragma omp parallel private(size, rank)\n",
        "    {\n",
        "        /* Каждый процесс находит свой порядковый номер и выводит его на экран */\n",
        "\n",
        "        rank = omp_get_thread_num();\n",
        "        printf(\"Hello World from thread = %d\\n\", rank);\n",
        "\n",
        "        /* Главный процесс - master выводит на экран количество процессов */\n",
        "\n",
        "        if (rank == 0) {\n",
        "            size = omp_get_num_threads();\n",
        "            printf(\"Number of threads = %d\\n\", size);\n",
        "        }\n",
        "\n",
        "    } /* Завершение параллельной части */\n",
        "\n",
        "    return 0;\n",
        "}"
      ],
      "metadata": {
        "colab": {
          "base_uri": "https://localhost:8080/"
        },
        "id": "7vacsjdXJY6T",
        "outputId": "edbb9404-c5e9-46ba-a29b-0dbfbe433d61"
      },
      "execution_count": null,
      "outputs": [
        {
          "output_type": "stream",
          "name": "stdout",
          "text": [
            "Overwriting primer_1.cpp\n"
          ]
        }
      ]
    },
    {
      "cell_type": "code",
      "source": [
        "!g++ primer_1.cpp -fopenmp -o primer_1"
      ],
      "metadata": {
        "id": "mYuwWcMSKL24"
      },
      "execution_count": null,
      "outputs": []
    },
    {
      "cell_type": "code",
      "source": [
        "!./primer_1"
      ],
      "metadata": {
        "colab": {
          "base_uri": "https://localhost:8080/"
        },
        "id": "LH1NJnBnM-T-",
        "outputId": "b6bc000a-245d-4736-d776-b0c6e7f94ff5"
      },
      "execution_count": null,
      "outputs": [
        {
          "output_type": "stream",
          "name": "stdout",
          "text": [
            "Hello World from thread = 0\n",
            "Number of threads = 2\n",
            "Hello World from thread = 1\n"
          ]
        }
      ]
    },
    {
      "cell_type": "markdown",
      "source": [
        "# **Пример 3.2**\n",
        "\n",
        "---\n",
        "\n"
      ],
      "metadata": {
        "id": "sG6ITziQN9Jd"
      }
    },
    {
      "cell_type": "code",
      "source": [
        "%%file primer_2.cpp\n",
        "\n",
        "#include <iostream>\n",
        "#include<omp.h>\n",
        "#include<stdio.h>\n",
        "\n",
        "int main () {\n",
        "    int i, n;\n",
        "    float a[100], b[100], sum;\n",
        "\n",
        "    /* Инициализация элементов векторов */\n",
        "\n",
        "    n = 100;\n",
        "    for (i=0; i < n; i++)\n",
        "        a[i] = b[i] = i * 1.0;\n",
        "    sum = 0.0;\n",
        "\n",
        "    /* Создание множества параллельных процессов и распараллеливание\n",
        "    * цикла по виткам. При выходе из цикла все значения переменной sum\n",
        "    * суммируются по всем процессам. */\n",
        "\n",
        "    #pragma omp parallel for reduction(+:sum)\n",
        "    for (i=0; i < n; i++)\n",
        "        sum = sum + (a[i] * b[i]);\n",
        "\n",
        "    /* Главный процесс выводит на экран значение sum */\n",
        "\n",
        "    printf(\" Sum = %f\\n\",sum);\n",
        "\n",
        "    return 0;\n",
        "}"
      ],
      "metadata": {
        "colab": {
          "base_uri": "https://localhost:8080/"
        },
        "id": "N-cftRAcODdj",
        "outputId": "c028004e-eb9b-425f-8469-82efc2e2d791"
      },
      "execution_count": null,
      "outputs": [
        {
          "output_type": "stream",
          "name": "stdout",
          "text": [
            "Overwriting primer_2.cpp\n"
          ]
        }
      ]
    },
    {
      "cell_type": "code",
      "source": [
        "!g++ primer_2.cpp -fopenmp -o primer_2"
      ],
      "metadata": {
        "id": "El0wkWGfOowo"
      },
      "execution_count": null,
      "outputs": []
    },
    {
      "cell_type": "code",
      "source": [
        "!./primer_2"
      ],
      "metadata": {
        "colab": {
          "base_uri": "https://localhost:8080/"
        },
        "id": "ZC24rtWHOqUT",
        "outputId": "3a14c4b4-30ad-4c25-ba04-2fa7f93822a3"
      },
      "execution_count": null,
      "outputs": [
        {
          "output_type": "stream",
          "name": "stdout",
          "text": [
            " Sum = 328350.000000\n"
          ]
        }
      ]
    },
    {
      "cell_type": "markdown",
      "source": [
        "# **Пример 3.3**\n",
        "\n",
        "---\n",
        "\n"
      ],
      "metadata": {
        "id": "JGuMWMMzPc11"
      }
    },
    {
      "cell_type": "code",
      "source": [
        "%%file primer_3.cpp\n",
        "\n",
        "#include <iostream>\n",
        "#include<omp.h>\n",
        "#include<stdio.h>\n",
        "\n",
        "#define VECLEN 100\n",
        "float a[VECLEN], b[VECLEN], sum;\n",
        "\n",
        "/* Подпрограмма, в которой суммируются элементы векторов */\n",
        "\n",
        "float dotprod () {\n",
        "    int i,rank;\n",
        "    rank = omp_get_thread_num();\n",
        "    #pragma omp for reduction(+:sum)\n",
        "    for (i=0; i < VECLEN; i++) {\n",
        "        sum = sum + (a[i]*b[i]);\n",
        "        printf(\" rank = %d i=%d\\n\",rank,i);\n",
        "    }\n",
        "    return(sum);\n",
        "}\n",
        "\n",
        "int main () {\n",
        "  int i;\n",
        "\n",
        "  /* Инициализация элементов векторов */\n",
        "\n",
        "  for (i=0; i < VECLEN; i++)\n",
        "      a[i] = b[i] = 1.0 * i;\n",
        "  sum = 0.0;\n",
        "\n",
        "  /* Создание множества параллельных процессов */\n",
        "\n",
        "  #pragma omp parallel\n",
        "  sum = dotprod();\n",
        "  printf(\"Sum = %f\\n\",sum);\n",
        "\n",
        "  return 0;\n",
        "}\n"
      ],
      "metadata": {
        "colab": {
          "base_uri": "https://localhost:8080/"
        },
        "id": "T6BhG2vXPgWD",
        "outputId": "043f2a0b-3a40-4dd0-d8b3-693049c400bb"
      },
      "execution_count": null,
      "outputs": [
        {
          "output_type": "stream",
          "name": "stdout",
          "text": [
            "Writing primer_3.cpp\n"
          ]
        }
      ]
    },
    {
      "cell_type": "code",
      "source": [
        "!g++ primer_3.cpp -fopenmp -o primer_3"
      ],
      "metadata": {
        "id": "-7nhVKbsPg4x"
      },
      "execution_count": null,
      "outputs": []
    },
    {
      "cell_type": "code",
      "source": [
        "!./primer_3"
      ],
      "metadata": {
        "colab": {
          "base_uri": "https://localhost:8080/"
        },
        "id": "Ygo-syGTPhC8",
        "outputId": "8c8217d4-6c8e-4e30-87db-8a03289628bb"
      },
      "execution_count": null,
      "outputs": [
        {
          "output_type": "stream",
          "name": "stdout",
          "text": [
            " rank = 0 i=0\n",
            " rank = 0 i=1\n",
            " rank = 0 i=2\n",
            " rank = 0 i=3\n",
            " rank = 0 i=4\n",
            " rank = 0 i=5\n",
            " rank = 1 i=50\n",
            " rank = 1 i=51\n",
            " rank = 1 i=52\n",
            " rank = 1 i=53\n",
            " rank = 1 i=54\n",
            " rank = 1 i=55\n",
            " rank = 1 i=56\n",
            " rank = 1 i=57\n",
            " rank = 1 i=58\n",
            " rank = 1 i=59\n",
            " rank = 1 i=60\n",
            " rank = 1 i=61\n",
            " rank = 1 i=62\n",
            " rank = 1 i=63\n",
            " rank = 1 i=64\n",
            " rank = 1 i=65\n",
            " rank = 1 i=66\n",
            " rank = 1 i=67\n",
            " rank = 1 i=68\n",
            " rank = 1 i=69\n",
            " rank = 1 i=70\n",
            " rank = 1 i=71\n",
            " rank = 1 i=72\n",
            " rank = 1 i=73\n",
            " rank = 1 i=74\n",
            " rank = 1 i=75\n",
            " rank = 1 i=76\n",
            " rank = 1 i=77\n",
            " rank = 1 i=78\n",
            " rank = 1 i=79\n",
            " rank = 1 i=80\n",
            " rank = 1 i=81\n",
            " rank = 1 i=82\n",
            " rank = 1 i=83\n",
            " rank = 1 i=84\n",
            " rank = 1 i=85\n",
            " rank = 1 i=86\n",
            " rank = 1 i=87\n",
            " rank = 1 i=88\n",
            " rank = 1 i=89\n",
            " rank = 1 i=90\n",
            " rank = 1 i=91\n",
            " rank = 1 i=92\n",
            " rank = 1 i=93\n",
            " rank = 1 i=94\n",
            " rank = 1 i=95\n",
            " rank = 1 i=96\n",
            " rank = 1 i=97\n",
            " rank = 1 i=98\n",
            " rank = 1 i=99\n",
            " rank = 0 i=6\n",
            " rank = 0 i=7\n",
            " rank = 0 i=8\n",
            " rank = 0 i=9\n",
            " rank = 0 i=10\n",
            " rank = 0 i=11\n",
            " rank = 0 i=12\n",
            " rank = 0 i=13\n",
            " rank = 0 i=14\n",
            " rank = 0 i=15\n",
            " rank = 0 i=16\n",
            " rank = 0 i=17\n",
            " rank = 0 i=18\n",
            " rank = 0 i=19\n",
            " rank = 0 i=20\n",
            " rank = 0 i=21\n",
            " rank = 0 i=22\n",
            " rank = 0 i=23\n",
            " rank = 0 i=24\n",
            " rank = 0 i=25\n",
            " rank = 0 i=26\n",
            " rank = 0 i=27\n",
            " rank = 0 i=28\n",
            " rank = 0 i=29\n",
            " rank = 0 i=30\n",
            " rank = 0 i=31\n",
            " rank = 0 i=32\n",
            " rank = 0 i=33\n",
            " rank = 0 i=34\n",
            " rank = 0 i=35\n",
            " rank = 0 i=36\n",
            " rank = 0 i=37\n",
            " rank = 0 i=38\n",
            " rank = 0 i=39\n",
            " rank = 0 i=40\n",
            " rank = 0 i=41\n",
            " rank = 0 i=42\n",
            " rank = 0 i=43\n",
            " rank = 0 i=44\n",
            " rank = 0 i=45\n",
            " rank = 0 i=46\n",
            " rank = 0 i=47\n",
            " rank = 0 i=48\n",
            " rank = 0 i=49\n",
            "Sum = 328350.000000\n"
          ]
        }
      ]
    },
    {
      "cell_type": "markdown",
      "source": [
        "# **Пример 3.4**\n",
        "\n",
        "---\n",
        "\n"
      ],
      "metadata": {
        "id": "AsuY4Z4DQFUD"
      }
    },
    {
      "cell_type": "code",
      "source": [
        "%%file primer_4.cpp\n",
        "\n",
        "#include <iostream>\n",
        "#include<omp.h>\n",
        "#include<stdio.h>\n",
        "\n",
        "#define N 50\n",
        "int main () {\n",
        "    int i, size, rank;\n",
        "    float a[N], b[N], c[N];\n",
        "\n",
        "    /* Инициализация элементов векторов */\n",
        "\n",
        "    for (i=0; i < N; i++)\n",
        "        a[i] = b[i] = i * 1.0;\n",
        "\n",
        "    /* Создание множества параллельных процессов */\n",
        "\n",
        "    #pragma omp parallel shared(a,b,c) private(i,rank,size)\n",
        "    {\n",
        "        /* Каждый процесс находит свой порядковый номер и выводит его на экран */\n",
        "\n",
        "        rank = omp_get_thread_num();\n",
        "        printf(\"Thread %d starting...\\n\",rank);\n",
        "\n",
        "        /* Директива задания секций */\n",
        "\n",
        "        #pragma omp sections nowait\n",
        "        {\n",
        "            /* Секция 0*/\n",
        "\n",
        "            #pragma omp section\n",
        "            for (i=0; i < N/2; i++) {\n",
        "                c[i] = a[i] + b[i];\n",
        "                printf(\"rank = %d i= %d c[i]= %f\\n\", rank,i,c[i]);\n",
        "            }\n",
        "\n",
        "            /* Секция 1*/\n",
        "\n",
        "            #pragma omp section\n",
        "            for (i=N/2; i < N; i++) {\n",
        "                c[i] = a[i] + b[i];\n",
        "                printf(\"rank = %d i= %d c[i]= %f\\n\", rank,i,c[i]);\n",
        "            }\n",
        "\n",
        "        } /* Завершение блока секций */\n",
        "\n",
        "        if (rank == 0) {\n",
        "          size = omp_get_num_threads();\n",
        "          printf(\"Number of threads = %d\\n\", size);\n",
        "        }\n",
        "\n",
        "    } /* Завершение параллельной части */\n",
        "\n",
        "    return 0;\n",
        "}\n"
      ],
      "metadata": {
        "colab": {
          "base_uri": "https://localhost:8080/"
        },
        "id": "pPWlhD4DQIqV",
        "outputId": "7027eeea-a836-427c-a79d-d56f7286db4c"
      },
      "execution_count": null,
      "outputs": [
        {
          "output_type": "stream",
          "name": "stdout",
          "text": [
            "Overwriting primer_4.cpp\n"
          ]
        }
      ]
    },
    {
      "cell_type": "code",
      "source": [
        "!g++ primer_4.cpp -fopenmp -o primer_4"
      ],
      "metadata": {
        "id": "rXI7MuqjQIxf"
      },
      "execution_count": null,
      "outputs": []
    },
    {
      "cell_type": "code",
      "source": [
        "!./primer_4"
      ],
      "metadata": {
        "colab": {
          "base_uri": "https://localhost:8080/"
        },
        "id": "SWEbFKluQI34",
        "outputId": "426eda36-88c8-4c63-8487-679ead7196e9"
      },
      "execution_count": null,
      "outputs": [
        {
          "output_type": "stream",
          "name": "stdout",
          "text": [
            "Thread 1 starting...\n",
            "rank = 1 i= 0 c[i]= 0.000000\n",
            "rank = 1 i= 1 c[i]= 2.000000\n",
            "rank = 1 i= 2 c[i]= 4.000000\n",
            "rank = 1 i= 3 c[i]= 6.000000\n",
            "rank = 1 i= 4 c[i]= 8.000000\n",
            "rank = 1 i= 5 c[i]= 10.000000\n",
            "rank = 1 i= 6 c[i]= 12.000000\n",
            "rank = 1 i= 7 c[i]= 14.000000\n",
            "rank = 1 i= 8 c[i]= 16.000000\n",
            "rank = 1 i= 9 c[i]= 18.000000\n",
            "rank = 1 i= 10 c[i]= 20.000000\n",
            "rank = 1 i= 11 c[i]= 22.000000\n",
            "rank = 1 i= 12 c[i]= 24.000000\n",
            "rank = 1 i= 13 c[i]= 26.000000\n",
            "rank = 1 i= 14 c[i]= 28.000000\n",
            "rank = 1 i= 15 c[i]= 30.000000\n",
            "rank = 1 i= 16 c[i]= 32.000000\n",
            "rank = 1 i= 17 c[i]= 34.000000\n",
            "rank = 1 i= 18 c[i]= 36.000000\n",
            "rank = 1 i= 19 c[i]= 38.000000\n",
            "rank = 1 i= 20 c[i]= 40.000000\n",
            "rank = 1 i= 21 c[i]= 42.000000\n",
            "rank = 1 i= 22 c[i]= 44.000000\n",
            "rank = 1 i= 23 c[i]= 46.000000\n",
            "rank = 1 i= 24 c[i]= 48.000000\n",
            "rank = 1 i= 25 c[i]= 50.000000\n",
            "rank = 1 i= 26 c[i]= 52.000000\n",
            "rank = 1 i= 27 c[i]= 54.000000\n",
            "rank = 1 i= 28 c[i]= 56.000000\n",
            "rank = 1 i= 29 c[i]= 58.000000\n",
            "rank = 1 i= 30 c[i]= 60.000000\n",
            "rank = 1 i= 31 c[i]= 62.000000\n",
            "rank = 1 i= 32 c[i]= 64.000000\n",
            "rank = 1 i= 33 c[i]= 66.000000\n",
            "rank = 1 i= 34 c[i]= 68.000000\n",
            "rank = 1 i= 35 c[i]= 70.000000\n",
            "rank = 1 i= 36 c[i]= 72.000000\n",
            "rank = 1 i= 37 c[i]= 74.000000\n",
            "rank = 1 i= 38 c[i]= 76.000000\n",
            "rank = 1 i= 39 c[i]= 78.000000\n",
            "rank = 1 i= 40 c[i]= 80.000000\n",
            "rank = 1 i= 41 c[i]= 82.000000\n",
            "rank = 1 i= 42 c[i]= 84.000000\n",
            "rank = 1 i= 43 c[i]= 86.000000\n",
            "rank = 1 i= 44 c[i]= 88.000000\n",
            "rank = 1 i= 45 c[i]= 90.000000\n",
            "rank = 1 i= 46 c[i]= 92.000000\n",
            "rank = 1 i= 47 c[i]= 94.000000\n",
            "rank = 1 i= 48 c[i]= 96.000000\n",
            "rank = 1 i= 49 c[i]= 98.000000\n",
            "Thread 0 starting...\n",
            "Number of threads = 2\n"
          ]
        }
      ]
    },
    {
      "cell_type": "markdown",
      "source": [
        "# **Пример 3.5**\n",
        "\n",
        "---\n",
        "\n"
      ],
      "metadata": {
        "id": "mxCrqbZpQ0WF"
      }
    },
    {
      "cell_type": "code",
      "source": [
        "%%file primer_5.cpp\n",
        "\n",
        "#include <iostream>\n",
        "#include<omp.h>\n",
        "#include<stdio.h>\n",
        "\n",
        "#define M 10\n",
        "int main () {\n",
        "    float A[M][M], b[M], c[M];\n",
        "    int i, j, rank;\n",
        "\n",
        "    /* Инициализация данных */\n",
        "\n",
        "    for (i=0; i < M; i++) {\n",
        "        for (j=0; j < M; j++)\n",
        "            A[i][j] = (j+1) * 1.0;\n",
        "        b[i] = 1.0 * (i+1);\n",
        "        c[i] = 0.0;\n",
        "    }\n",
        "\n",
        "    printf(\"Вывод значений матрицы A и вектора b на экран:\\n\");\n",
        "\n",
        "    for (i=0; i < M; i++) {\n",
        "        printf(\" A[%d]=\",i);\n",
        "        for (j=0; j < M; j++)\n",
        "            printf(\"%.1f \",A[i][j]);\n",
        "        printf(\" b[%d]=%.1f\\n\",i,b[i]);\n",
        "    }\n",
        "\n",
        "    /* Создание множества параллельных процессов и в каждом из них задаются\n",
        "    * свои приватные переменные rank и i*/\n",
        "\n",
        "    #pragma omp parallel shared(A,b,c) private(rank,i)\n",
        "    {\n",
        "        rank = omp_get_thread_num();\n",
        "\n",
        "        /* Директива распараллеливания цикла по виткам */\n",
        "\n",
        "        #pragma omp for private(j)\n",
        "        for (i=0; i < M; i++) {\n",
        "            for (j=0; j < M; j++)\n",
        "                c[i] += (A[i][j] * b[j]);\n",
        "\n",
        "            /* Каждый процесс выводит свой порядковый номер, значение витка цикла и\n",
        "            * значение результирующего вектора на каждом витке цикла и внутри\n",
        "            * критической секции */\n",
        "\n",
        "            #pragma omp critical\n",
        "            {\n",
        "                printf(\" rank=%d \", rank);\n",
        "                printf(\"i=%d \", i);\n",
        "                printf(\"c[%d]=%.2f\\n\", i, c[i]);\n",
        "            }\n",
        "\n",
        "        } /* Конец параллельного цикла */\n",
        "\n",
        "    } /* Завершение параллельной конструкции */\n",
        "\n",
        "    return 0;\n",
        "}"
      ],
      "metadata": {
        "colab": {
          "base_uri": "https://localhost:8080/"
        },
        "id": "Wi3gIm_fQ3yG",
        "outputId": "f4a429fc-1657-47c9-de13-d5085d886b6d"
      },
      "execution_count": null,
      "outputs": [
        {
          "output_type": "stream",
          "name": "stdout",
          "text": [
            "Overwriting primer_5.cpp\n"
          ]
        }
      ]
    },
    {
      "cell_type": "code",
      "source": [
        "!g++ primer_5.cpp -fopenmp -o primer_5"
      ],
      "metadata": {
        "id": "SpJK4dMYQ34A"
      },
      "execution_count": null,
      "outputs": []
    },
    {
      "cell_type": "code",
      "source": [
        "!./primer_5"
      ],
      "metadata": {
        "id": "DeJhtiEgQ3-G",
        "colab": {
          "base_uri": "https://localhost:8080/"
        },
        "outputId": "221f2342-60ea-4d40-fc7e-d9fd5d51d9e8"
      },
      "execution_count": null,
      "outputs": [
        {
          "output_type": "stream",
          "name": "stdout",
          "text": [
            "Вывод значений матрицы A и вектора b на экран:\n",
            " A[0]=1.0 2.0 3.0 4.0 5.0 6.0 7.0 8.0 9.0 10.0  b[0]=1.0\n",
            " A[1]=1.0 2.0 3.0 4.0 5.0 6.0 7.0 8.0 9.0 10.0  b[1]=2.0\n",
            " A[2]=1.0 2.0 3.0 4.0 5.0 6.0 7.0 8.0 9.0 10.0  b[2]=3.0\n",
            " A[3]=1.0 2.0 3.0 4.0 5.0 6.0 7.0 8.0 9.0 10.0  b[3]=4.0\n",
            " A[4]=1.0 2.0 3.0 4.0 5.0 6.0 7.0 8.0 9.0 10.0  b[4]=5.0\n",
            " A[5]=1.0 2.0 3.0 4.0 5.0 6.0 7.0 8.0 9.0 10.0  b[5]=6.0\n",
            " A[6]=1.0 2.0 3.0 4.0 5.0 6.0 7.0 8.0 9.0 10.0  b[6]=7.0\n",
            " A[7]=1.0 2.0 3.0 4.0 5.0 6.0 7.0 8.0 9.0 10.0  b[7]=8.0\n",
            " A[8]=1.0 2.0 3.0 4.0 5.0 6.0 7.0 8.0 9.0 10.0  b[8]=9.0\n",
            " A[9]=1.0 2.0 3.0 4.0 5.0 6.0 7.0 8.0 9.0 10.0  b[9]=10.0\n",
            " rank=0 i=0 c[0]=385.00\n",
            " rank=1 i=5 c[5]=385.00\n",
            " rank=0 i=1 c[1]=385.00\n",
            " rank=1 i=6 c[6]=385.00\n",
            " rank=0 i=2 c[2]=385.00\n",
            " rank=1 i=7 c[7]=385.00\n",
            " rank=0 i=3 c[3]=385.00\n",
            " rank=1 i=8 c[8]=385.00\n",
            " rank=0 i=4 c[4]=385.00\n",
            " rank=1 i=9 c[9]=385.00\n"
          ]
        }
      ]
    },
    {
      "cell_type": "markdown",
      "source": [
        "# **Задание 2 - Параллельное умножение матрицы на вектор**\n",
        "\n",
        "---\n",
        "\n"
      ],
      "metadata": {
        "id": "NX2ukqVdjt7E"
      }
    },
    {
      "cell_type": "code",
      "source": [
        "%%file lab_1_task2.cpp\n",
        "\n",
        "#include <iostream>\n",
        "#include<omp.h>\n",
        "#include<stdio.h>\n",
        "\n",
        "const int N = 30;\n",
        "double **a, *b, *c;\n",
        "\n",
        "int main() {\n",
        "    int i, j, num_threads, p, n;\n",
        "\n",
        "    a = new double*[N];\n",
        "    b = new double[N];\n",
        "    c = new double[N];\n",
        "\n",
        "    for (i = 0; i < N; i++) {\n",
        "        b[i] = 1;\n",
        "        a[i] = new double[N];\n",
        "        for (j = 0; j < N; j++) {\n",
        "            a[i][j] = 1;\n",
        "        }\n",
        "    }\n",
        "\n",
        "    std::cout << \"Матрица А:\" << std::endl;\n",
        "    for (i = 0; i < N; i++) {\n",
        "        for (j = 0; j < N; j++)\n",
        "            std::cout << a[i][j] << \"  \";\n",
        "        std::cout << \"\\n\";\n",
        "    }\n",
        "\n",
        "    std::cout << \"\\nВектор b:\" << std::endl;\n",
        "    for (i = 0; i < N; i++)\n",
        "        std::cout << b[i] << \"  \";\n",
        "\n",
        "    std::cout << \"\\n\";\n",
        "\n",
        "    #pragma omp parallel shared(a, b, c) private(i, j, num_threads, p, n)\n",
        "    {\n",
        "        num_threads = omp_get_num_threads();\n",
        "        p = omp_get_thread_num();\n",
        "        n = N/num_threads;\n",
        "\n",
        "        for (i = n*p; i < n*(p+1); i++) {\n",
        "            c[i] = 0.0;\n",
        "            for (j = 0; j < N; j++) {\n",
        "                c[i] += a[i][j]*b[j];\n",
        "            }\n",
        "        }\n",
        "    }\n",
        "\n",
        "    std::cout << \"\\nРезультирующий вектор с:\" << std::endl;\n",
        "    for(i = 0; i < N; i++)\n",
        "        std::cout << c[i] << \"  \";\n",
        "\n",
        "    return 0;\n",
        "}"
      ],
      "metadata": {
        "colab": {
          "base_uri": "https://localhost:8080/"
        },
        "id": "c38dAk4Nj7yI",
        "outputId": "bed4ad2b-5866-4e16-bcf3-fb98721b480e"
      },
      "execution_count": null,
      "outputs": [
        {
          "output_type": "stream",
          "name": "stdout",
          "text": [
            "Overwriting lab_1_task2.cpp\n"
          ]
        }
      ]
    },
    {
      "cell_type": "code",
      "source": [
        "!g++ lab_1_task2.cpp -fopenmp -o lab_1_task2"
      ],
      "metadata": {
        "id": "E6ag7aqkj74k"
      },
      "execution_count": null,
      "outputs": []
    },
    {
      "cell_type": "code",
      "source": [
        "!./lab_1_task2"
      ],
      "metadata": {
        "colab": {
          "base_uri": "https://localhost:8080/"
        },
        "id": "WJMJ5Isaj79r",
        "outputId": "6e55eecf-4d5f-4add-e387-33cf3c5901b1"
      },
      "execution_count": null,
      "outputs": [
        {
          "output_type": "stream",
          "name": "stdout",
          "text": [
            "Матрица А:\n",
            "1  1  1  1  1  1  1  1  1  1  1  1  1  1  1  1  1  1  1  1  1  1  1  1  1  1  1  1  1  1  \n",
            "1  1  1  1  1  1  1  1  1  1  1  1  1  1  1  1  1  1  1  1  1  1  1  1  1  1  1  1  1  1  \n",
            "1  1  1  1  1  1  1  1  1  1  1  1  1  1  1  1  1  1  1  1  1  1  1  1  1  1  1  1  1  1  \n",
            "1  1  1  1  1  1  1  1  1  1  1  1  1  1  1  1  1  1  1  1  1  1  1  1  1  1  1  1  1  1  \n",
            "1  1  1  1  1  1  1  1  1  1  1  1  1  1  1  1  1  1  1  1  1  1  1  1  1  1  1  1  1  1  \n",
            "1  1  1  1  1  1  1  1  1  1  1  1  1  1  1  1  1  1  1  1  1  1  1  1  1  1  1  1  1  1  \n",
            "1  1  1  1  1  1  1  1  1  1  1  1  1  1  1  1  1  1  1  1  1  1  1  1  1  1  1  1  1  1  \n",
            "1  1  1  1  1  1  1  1  1  1  1  1  1  1  1  1  1  1  1  1  1  1  1  1  1  1  1  1  1  1  \n",
            "1  1  1  1  1  1  1  1  1  1  1  1  1  1  1  1  1  1  1  1  1  1  1  1  1  1  1  1  1  1  \n",
            "1  1  1  1  1  1  1  1  1  1  1  1  1  1  1  1  1  1  1  1  1  1  1  1  1  1  1  1  1  1  \n",
            "1  1  1  1  1  1  1  1  1  1  1  1  1  1  1  1  1  1  1  1  1  1  1  1  1  1  1  1  1  1  \n",
            "1  1  1  1  1  1  1  1  1  1  1  1  1  1  1  1  1  1  1  1  1  1  1  1  1  1  1  1  1  1  \n",
            "1  1  1  1  1  1  1  1  1  1  1  1  1  1  1  1  1  1  1  1  1  1  1  1  1  1  1  1  1  1  \n",
            "1  1  1  1  1  1  1  1  1  1  1  1  1  1  1  1  1  1  1  1  1  1  1  1  1  1  1  1  1  1  \n",
            "1  1  1  1  1  1  1  1  1  1  1  1  1  1  1  1  1  1  1  1  1  1  1  1  1  1  1  1  1  1  \n",
            "1  1  1  1  1  1  1  1  1  1  1  1  1  1  1  1  1  1  1  1  1  1  1  1  1  1  1  1  1  1  \n",
            "1  1  1  1  1  1  1  1  1  1  1  1  1  1  1  1  1  1  1  1  1  1  1  1  1  1  1  1  1  1  \n",
            "1  1  1  1  1  1  1  1  1  1  1  1  1  1  1  1  1  1  1  1  1  1  1  1  1  1  1  1  1  1  \n",
            "1  1  1  1  1  1  1  1  1  1  1  1  1  1  1  1  1  1  1  1  1  1  1  1  1  1  1  1  1  1  \n",
            "1  1  1  1  1  1  1  1  1  1  1  1  1  1  1  1  1  1  1  1  1  1  1  1  1  1  1  1  1  1  \n",
            "1  1  1  1  1  1  1  1  1  1  1  1  1  1  1  1  1  1  1  1  1  1  1  1  1  1  1  1  1  1  \n",
            "1  1  1  1  1  1  1  1  1  1  1  1  1  1  1  1  1  1  1  1  1  1  1  1  1  1  1  1  1  1  \n",
            "1  1  1  1  1  1  1  1  1  1  1  1  1  1  1  1  1  1  1  1  1  1  1  1  1  1  1  1  1  1  \n",
            "1  1  1  1  1  1  1  1  1  1  1  1  1  1  1  1  1  1  1  1  1  1  1  1  1  1  1  1  1  1  \n",
            "1  1  1  1  1  1  1  1  1  1  1  1  1  1  1  1  1  1  1  1  1  1  1  1  1  1  1  1  1  1  \n",
            "1  1  1  1  1  1  1  1  1  1  1  1  1  1  1  1  1  1  1  1  1  1  1  1  1  1  1  1  1  1  \n",
            "1  1  1  1  1  1  1  1  1  1  1  1  1  1  1  1  1  1  1  1  1  1  1  1  1  1  1  1  1  1  \n",
            "1  1  1  1  1  1  1  1  1  1  1  1  1  1  1  1  1  1  1  1  1  1  1  1  1  1  1  1  1  1  \n",
            "1  1  1  1  1  1  1  1  1  1  1  1  1  1  1  1  1  1  1  1  1  1  1  1  1  1  1  1  1  1  \n",
            "1  1  1  1  1  1  1  1  1  1  1  1  1  1  1  1  1  1  1  1  1  1  1  1  1  1  1  1  1  1  \n",
            "\n",
            "Вектор b:\n",
            "1  1  1  1  1  1  1  1  1  1  1  1  1  1  1  1  1  1  1  1  1  1  1  1  1  1  1  1  1  1  \n",
            "\n",
            "Результирующий вектор с:\n",
            "30  30  30  30  30  30  30  30  30  30  30  30  30  30  30  30  30  30  30  30  30  30  30  30  30  30  30  30  30  30  "
          ]
        }
      ]
    },
    {
      "cell_type": "markdown",
      "source": [
        "# **Задание 3 - Параллельное умножение матрицы на матрицу**\n",
        "\n",
        "---\n",
        "\n"
      ],
      "metadata": {
        "id": "hnj5T7UHj8ML"
      }
    },
    {
      "cell_type": "code",
      "source": [
        "%%file lab_1_task3.cpp\n",
        "\n",
        "#include <iostream>\n",
        "#include<omp.h>\n",
        "#include<stdio.h>\n",
        "\n",
        "const int N = 30;\n",
        "double **a, **b, **c;\n",
        "\n",
        "int main() {\n",
        "    int i, j, k, num_threads, p, n;\n",
        "\n",
        "    a = new double*[N];\n",
        "    b = new double*[N];\n",
        "    c = new double*[N];\n",
        "\n",
        "    for (i = 0; i < N; i++) {\n",
        "        a[i] = new double[N];\n",
        "        b[i] = new double[N];\n",
        "        c[i] = new double[N];\n",
        "        for (j = 0; j < N; j++) {\n",
        "            a[i][j] = 1;\n",
        "            b[i][j] = 2;\n",
        "        }\n",
        "    }\n",
        "\n",
        "    std::cout << \"Матрица А:\" << std::endl;\n",
        "    for (i = 0; i < N; i++) {\n",
        "        for (j = 0; j < N; j++)\n",
        "            std::cout << a[i][j] << \"  \";\n",
        "        std::cout << \"\\n\";\n",
        "    }\n",
        "\n",
        "    std::cout << \"\\nМатрица B:\" << std::endl;\n",
        "    for (i = 0; i < N; i++) {\n",
        "        for (j = 0; j < N; j++)\n",
        "            std::cout << b[i][j] << \"  \";\n",
        "        std::cout << \"\\n\";\n",
        "    }\n",
        "\n",
        "    std::cout << \"\\n\";\n",
        "\n",
        "    #pragma omp parallel shared(a, b, c) private(i, j, k, num_threads, p, n)\n",
        "    {\n",
        "        num_threads = omp_get_num_threads();\n",
        "        p = omp_get_thread_num();\n",
        "        n = N/num_threads;\n",
        "\n",
        "        for (i = p*n; i < n*(p+1); i++) {\n",
        "            for (j = 0; j < N; j++) {\n",
        "                c[i][j] = 0.0;\n",
        "                for(k = 0; k < N; k++){\n",
        "                    c[i][j] += a[i][k]*b[k][j];\n",
        "                }\n",
        "            }\n",
        "        }\n",
        "    }\n",
        "\n",
        "    std::cout << \"\\nРезультирующая матрица С:\" << std::endl;\n",
        "    for (i = 0; i < N; i++) {\n",
        "        for (j = 0; j < N; j++)\n",
        "            std::cout << c[i][j] << \"  \";\n",
        "        std::cout << \"\\n\";\n",
        "    }\n",
        "\n",
        "    return 0;\n",
        "}"
      ],
      "metadata": {
        "colab": {
          "base_uri": "https://localhost:8080/"
        },
        "id": "-mwPE9oPj8r_",
        "outputId": "cd589221-1f88-43a4-b442-692c6004cacd"
      },
      "execution_count": null,
      "outputs": [
        {
          "output_type": "stream",
          "name": "stdout",
          "text": [
            "Overwriting lab_1_task3.cpp\n"
          ]
        }
      ]
    },
    {
      "cell_type": "code",
      "source": [
        "!g++ lab_1_task3.cpp -fopenmp -o lab_1_task3"
      ],
      "metadata": {
        "id": "HxtW8Zbtj80W"
      },
      "execution_count": null,
      "outputs": []
    },
    {
      "cell_type": "code",
      "source": [
        "!./lab_1_task3"
      ],
      "metadata": {
        "colab": {
          "base_uri": "https://localhost:8080/"
        },
        "id": "1OSWK_Mmj9FL",
        "outputId": "0330c51a-4725-42a4-90b0-740b9203db03"
      },
      "execution_count": null,
      "outputs": [
        {
          "output_type": "stream",
          "name": "stdout",
          "text": [
            "Матрица А:\n",
            "1  1  1  1  1  1  1  1  1  1  1  1  1  1  1  1  1  1  1  1  1  1  1  1  1  1  1  1  1  1  \n",
            "1  1  1  1  1  1  1  1  1  1  1  1  1  1  1  1  1  1  1  1  1  1  1  1  1  1  1  1  1  1  \n",
            "1  1  1  1  1  1  1  1  1  1  1  1  1  1  1  1  1  1  1  1  1  1  1  1  1  1  1  1  1  1  \n",
            "1  1  1  1  1  1  1  1  1  1  1  1  1  1  1  1  1  1  1  1  1  1  1  1  1  1  1  1  1  1  \n",
            "1  1  1  1  1  1  1  1  1  1  1  1  1  1  1  1  1  1  1  1  1  1  1  1  1  1  1  1  1  1  \n",
            "1  1  1  1  1  1  1  1  1  1  1  1  1  1  1  1  1  1  1  1  1  1  1  1  1  1  1  1  1  1  \n",
            "1  1  1  1  1  1  1  1  1  1  1  1  1  1  1  1  1  1  1  1  1  1  1  1  1  1  1  1  1  1  \n",
            "1  1  1  1  1  1  1  1  1  1  1  1  1  1  1  1  1  1  1  1  1  1  1  1  1  1  1  1  1  1  \n",
            "1  1  1  1  1  1  1  1  1  1  1  1  1  1  1  1  1  1  1  1  1  1  1  1  1  1  1  1  1  1  \n",
            "1  1  1  1  1  1  1  1  1  1  1  1  1  1  1  1  1  1  1  1  1  1  1  1  1  1  1  1  1  1  \n",
            "1  1  1  1  1  1  1  1  1  1  1  1  1  1  1  1  1  1  1  1  1  1  1  1  1  1  1  1  1  1  \n",
            "1  1  1  1  1  1  1  1  1  1  1  1  1  1  1  1  1  1  1  1  1  1  1  1  1  1  1  1  1  1  \n",
            "1  1  1  1  1  1  1  1  1  1  1  1  1  1  1  1  1  1  1  1  1  1  1  1  1  1  1  1  1  1  \n",
            "1  1  1  1  1  1  1  1  1  1  1  1  1  1  1  1  1  1  1  1  1  1  1  1  1  1  1  1  1  1  \n",
            "1  1  1  1  1  1  1  1  1  1  1  1  1  1  1  1  1  1  1  1  1  1  1  1  1  1  1  1  1  1  \n",
            "1  1  1  1  1  1  1  1  1  1  1  1  1  1  1  1  1  1  1  1  1  1  1  1  1  1  1  1  1  1  \n",
            "1  1  1  1  1  1  1  1  1  1  1  1  1  1  1  1  1  1  1  1  1  1  1  1  1  1  1  1  1  1  \n",
            "1  1  1  1  1  1  1  1  1  1  1  1  1  1  1  1  1  1  1  1  1  1  1  1  1  1  1  1  1  1  \n",
            "1  1  1  1  1  1  1  1  1  1  1  1  1  1  1  1  1  1  1  1  1  1  1  1  1  1  1  1  1  1  \n",
            "1  1  1  1  1  1  1  1  1  1  1  1  1  1  1  1  1  1  1  1  1  1  1  1  1  1  1  1  1  1  \n",
            "1  1  1  1  1  1  1  1  1  1  1  1  1  1  1  1  1  1  1  1  1  1  1  1  1  1  1  1  1  1  \n",
            "1  1  1  1  1  1  1  1  1  1  1  1  1  1  1  1  1  1  1  1  1  1  1  1  1  1  1  1  1  1  \n",
            "1  1  1  1  1  1  1  1  1  1  1  1  1  1  1  1  1  1  1  1  1  1  1  1  1  1  1  1  1  1  \n",
            "1  1  1  1  1  1  1  1  1  1  1  1  1  1  1  1  1  1  1  1  1  1  1  1  1  1  1  1  1  1  \n",
            "1  1  1  1  1  1  1  1  1  1  1  1  1  1  1  1  1  1  1  1  1  1  1  1  1  1  1  1  1  1  \n",
            "1  1  1  1  1  1  1  1  1  1  1  1  1  1  1  1  1  1  1  1  1  1  1  1  1  1  1  1  1  1  \n",
            "1  1  1  1  1  1  1  1  1  1  1  1  1  1  1  1  1  1  1  1  1  1  1  1  1  1  1  1  1  1  \n",
            "1  1  1  1  1  1  1  1  1  1  1  1  1  1  1  1  1  1  1  1  1  1  1  1  1  1  1  1  1  1  \n",
            "1  1  1  1  1  1  1  1  1  1  1  1  1  1  1  1  1  1  1  1  1  1  1  1  1  1  1  1  1  1  \n",
            "1  1  1  1  1  1  1  1  1  1  1  1  1  1  1  1  1  1  1  1  1  1  1  1  1  1  1  1  1  1  \n",
            "\n",
            "Матрица B:\n",
            "2  2  2  2  2  2  2  2  2  2  2  2  2  2  2  2  2  2  2  2  2  2  2  2  2  2  2  2  2  2  \n",
            "2  2  2  2  2  2  2  2  2  2  2  2  2  2  2  2  2  2  2  2  2  2  2  2  2  2  2  2  2  2  \n",
            "2  2  2  2  2  2  2  2  2  2  2  2  2  2  2  2  2  2  2  2  2  2  2  2  2  2  2  2  2  2  \n",
            "2  2  2  2  2  2  2  2  2  2  2  2  2  2  2  2  2  2  2  2  2  2  2  2  2  2  2  2  2  2  \n",
            "2  2  2  2  2  2  2  2  2  2  2  2  2  2  2  2  2  2  2  2  2  2  2  2  2  2  2  2  2  2  \n",
            "2  2  2  2  2  2  2  2  2  2  2  2  2  2  2  2  2  2  2  2  2  2  2  2  2  2  2  2  2  2  \n",
            "2  2  2  2  2  2  2  2  2  2  2  2  2  2  2  2  2  2  2  2  2  2  2  2  2  2  2  2  2  2  \n",
            "2  2  2  2  2  2  2  2  2  2  2  2  2  2  2  2  2  2  2  2  2  2  2  2  2  2  2  2  2  2  \n",
            "2  2  2  2  2  2  2  2  2  2  2  2  2  2  2  2  2  2  2  2  2  2  2  2  2  2  2  2  2  2  \n",
            "2  2  2  2  2  2  2  2  2  2  2  2  2  2  2  2  2  2  2  2  2  2  2  2  2  2  2  2  2  2  \n",
            "2  2  2  2  2  2  2  2  2  2  2  2  2  2  2  2  2  2  2  2  2  2  2  2  2  2  2  2  2  2  \n",
            "2  2  2  2  2  2  2  2  2  2  2  2  2  2  2  2  2  2  2  2  2  2  2  2  2  2  2  2  2  2  \n",
            "2  2  2  2  2  2  2  2  2  2  2  2  2  2  2  2  2  2  2  2  2  2  2  2  2  2  2  2  2  2  \n",
            "2  2  2  2  2  2  2  2  2  2  2  2  2  2  2  2  2  2  2  2  2  2  2  2  2  2  2  2  2  2  \n",
            "2  2  2  2  2  2  2  2  2  2  2  2  2  2  2  2  2  2  2  2  2  2  2  2  2  2  2  2  2  2  \n",
            "2  2  2  2  2  2  2  2  2  2  2  2  2  2  2  2  2  2  2  2  2  2  2  2  2  2  2  2  2  2  \n",
            "2  2  2  2  2  2  2  2  2  2  2  2  2  2  2  2  2  2  2  2  2  2  2  2  2  2  2  2  2  2  \n",
            "2  2  2  2  2  2  2  2  2  2  2  2  2  2  2  2  2  2  2  2  2  2  2  2  2  2  2  2  2  2  \n",
            "2  2  2  2  2  2  2  2  2  2  2  2  2  2  2  2  2  2  2  2  2  2  2  2  2  2  2  2  2  2  \n",
            "2  2  2  2  2  2  2  2  2  2  2  2  2  2  2  2  2  2  2  2  2  2  2  2  2  2  2  2  2  2  \n",
            "2  2  2  2  2  2  2  2  2  2  2  2  2  2  2  2  2  2  2  2  2  2  2  2  2  2  2  2  2  2  \n",
            "2  2  2  2  2  2  2  2  2  2  2  2  2  2  2  2  2  2  2  2  2  2  2  2  2  2  2  2  2  2  \n",
            "2  2  2  2  2  2  2  2  2  2  2  2  2  2  2  2  2  2  2  2  2  2  2  2  2  2  2  2  2  2  \n",
            "2  2  2  2  2  2  2  2  2  2  2  2  2  2  2  2  2  2  2  2  2  2  2  2  2  2  2  2  2  2  \n",
            "2  2  2  2  2  2  2  2  2  2  2  2  2  2  2  2  2  2  2  2  2  2  2  2  2  2  2  2  2  2  \n",
            "2  2  2  2  2  2  2  2  2  2  2  2  2  2  2  2  2  2  2  2  2  2  2  2  2  2  2  2  2  2  \n",
            "2  2  2  2  2  2  2  2  2  2  2  2  2  2  2  2  2  2  2  2  2  2  2  2  2  2  2  2  2  2  \n",
            "2  2  2  2  2  2  2  2  2  2  2  2  2  2  2  2  2  2  2  2  2  2  2  2  2  2  2  2  2  2  \n",
            "2  2  2  2  2  2  2  2  2  2  2  2  2  2  2  2  2  2  2  2  2  2  2  2  2  2  2  2  2  2  \n",
            "2  2  2  2  2  2  2  2  2  2  2  2  2  2  2  2  2  2  2  2  2  2  2  2  2  2  2  2  2  2  \n",
            "\n",
            "\n",
            "Результирующая матрица С:\n",
            "60  60  60  60  60  60  60  60  60  60  60  60  60  60  60  60  60  60  60  60  60  60  60  60  60  60  60  60  60  60  \n",
            "60  60  60  60  60  60  60  60  60  60  60  60  60  60  60  60  60  60  60  60  60  60  60  60  60  60  60  60  60  60  \n",
            "60  60  60  60  60  60  60  60  60  60  60  60  60  60  60  60  60  60  60  60  60  60  60  60  60  60  60  60  60  60  \n",
            "60  60  60  60  60  60  60  60  60  60  60  60  60  60  60  60  60  60  60  60  60  60  60  60  60  60  60  60  60  60  \n",
            "60  60  60  60  60  60  60  60  60  60  60  60  60  60  60  60  60  60  60  60  60  60  60  60  60  60  60  60  60  60  \n",
            "60  60  60  60  60  60  60  60  60  60  60  60  60  60  60  60  60  60  60  60  60  60  60  60  60  60  60  60  60  60  \n",
            "60  60  60  60  60  60  60  60  60  60  60  60  60  60  60  60  60  60  60  60  60  60  60  60  60  60  60  60  60  60  \n",
            "60  60  60  60  60  60  60  60  60  60  60  60  60  60  60  60  60  60  60  60  60  60  60  60  60  60  60  60  60  60  \n",
            "60  60  60  60  60  60  60  60  60  60  60  60  60  60  60  60  60  60  60  60  60  60  60  60  60  60  60  60  60  60  \n",
            "60  60  60  60  60  60  60  60  60  60  60  60  60  60  60  60  60  60  60  60  60  60  60  60  60  60  60  60  60  60  \n",
            "60  60  60  60  60  60  60  60  60  60  60  60  60  60  60  60  60  60  60  60  60  60  60  60  60  60  60  60  60  60  \n",
            "60  60  60  60  60  60  60  60  60  60  60  60  60  60  60  60  60  60  60  60  60  60  60  60  60  60  60  60  60  60  \n",
            "60  60  60  60  60  60  60  60  60  60  60  60  60  60  60  60  60  60  60  60  60  60  60  60  60  60  60  60  60  60  \n",
            "60  60  60  60  60  60  60  60  60  60  60  60  60  60  60  60  60  60  60  60  60  60  60  60  60  60  60  60  60  60  \n",
            "60  60  60  60  60  60  60  60  60  60  60  60  60  60  60  60  60  60  60  60  60  60  60  60  60  60  60  60  60  60  \n",
            "60  60  60  60  60  60  60  60  60  60  60  60  60  60  60  60  60  60  60  60  60  60  60  60  60  60  60  60  60  60  \n",
            "60  60  60  60  60  60  60  60  60  60  60  60  60  60  60  60  60  60  60  60  60  60  60  60  60  60  60  60  60  60  \n",
            "60  60  60  60  60  60  60  60  60  60  60  60  60  60  60  60  60  60  60  60  60  60  60  60  60  60  60  60  60  60  \n",
            "60  60  60  60  60  60  60  60  60  60  60  60  60  60  60  60  60  60  60  60  60  60  60  60  60  60  60  60  60  60  \n",
            "60  60  60  60  60  60  60  60  60  60  60  60  60  60  60  60  60  60  60  60  60  60  60  60  60  60  60  60  60  60  \n",
            "60  60  60  60  60  60  60  60  60  60  60  60  60  60  60  60  60  60  60  60  60  60  60  60  60  60  60  60  60  60  \n",
            "60  60  60  60  60  60  60  60  60  60  60  60  60  60  60  60  60  60  60  60  60  60  60  60  60  60  60  60  60  60  \n",
            "60  60  60  60  60  60  60  60  60  60  60  60  60  60  60  60  60  60  60  60  60  60  60  60  60  60  60  60  60  60  \n",
            "60  60  60  60  60  60  60  60  60  60  60  60  60  60  60  60  60  60  60  60  60  60  60  60  60  60  60  60  60  60  \n",
            "60  60  60  60  60  60  60  60  60  60  60  60  60  60  60  60  60  60  60  60  60  60  60  60  60  60  60  60  60  60  \n",
            "60  60  60  60  60  60  60  60  60  60  60  60  60  60  60  60  60  60  60  60  60  60  60  60  60  60  60  60  60  60  \n",
            "60  60  60  60  60  60  60  60  60  60  60  60  60  60  60  60  60  60  60  60  60  60  60  60  60  60  60  60  60  60  \n",
            "60  60  60  60  60  60  60  60  60  60  60  60  60  60  60  60  60  60  60  60  60  60  60  60  60  60  60  60  60  60  \n",
            "60  60  60  60  60  60  60  60  60  60  60  60  60  60  60  60  60  60  60  60  60  60  60  60  60  60  60  60  60  60  \n",
            "60  60  60  60  60  60  60  60  60  60  60  60  60  60  60  60  60  60  60  60  60  60  60  60  60  60  60  60  60  60  \n"
          ]
        }
      ]
    }
  ]
}